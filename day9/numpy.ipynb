{
 "cells": [
  {
   "cell_type": "code",
   "execution_count": 34,
   "metadata": {},
   "outputs": [],
   "source": [
    "import numpy as np"
   ]
  },
  {
   "cell_type": "code",
   "execution_count": 35,
   "metadata": {},
   "outputs": [
    {
     "name": "stdout",
     "output_type": "stream",
     "text": [
      "Task 1: Creating Arrays\n",
      "Array 1: [1 2 3 4 5]\n",
      "Array 2: [0. 0. 0. 0.]\n",
      "Array 3: [[ 8  8 10]\n",
      " [ 2 10 10]]\n",
      "\n",
      "\n"
     ]
    }
   ],
   "source": [
    "\n",
    "print(\"Task 1: Creating Arrays\")\n",
    "arr1 = np.array([1, 2, 3, 4, 5])\n",
    "arr2 = np.zeros(4)\n",
    "arr3 = np.random.randint(1, 11, size=(2, 3))\n",
    "print(\"Array 1:\", arr1)\n",
    "print(\"Array 2:\", arr2)\n",
    "print(\"Array 3:\", arr3)\n",
    "print(\"\\n\")"
   ]
  },
  {
   "cell_type": "code",
   "execution_count": 36,
   "metadata": {},
   "outputs": [],
   "source": [
    "#  Task: Perform basic array operations:- Add 5 to every element in arr1- Multiply arr1 by 2- \n",
    "# Calculate the square of each element in arr1"
   ]
  },
  {
   "cell_type": "code",
   "execution_count": 30,
   "metadata": {},
   "outputs": [
    {
     "name": "stdout",
     "output_type": "stream",
     "text": [
      "Original array: [1 2 3 4 5]\n",
      "Add 5: [ 6  7  8  9 10]\n",
      "Multiply by 2: [ 2  4  6  8 10]\n",
      "Squared: [ 1  4  9 16 25]\n",
      "\n",
      "\n"
     ]
    }
   ],
   "source": [
    "arr1_plus_5 = arr1 + 5\n",
    "arr1_times_2 = arr1 * 2\n",
    "arr1_squared = arr1 ** 2\n",
    "print(\"Original array:\", arr1)\n",
    "print(\"Add 5:\", arr1_plus_5)\n",
    "print(\"Multiply by 2:\", arr1_times_2)\n",
    "print(\"Squared:\", arr1_squared)\n",
    "print(\"\\n\")"
   ]
  },
  {
   "cell_type": "code",
   "execution_count": 31,
   "metadata": {},
   "outputs": [],
   "source": [
    "#  Task: Create a 1D array with numbers 0-9 and:- Get the first 3 elements- \n",
    "#  Get all elements from index 5 onwards- Get every second element\n"
   ]
  },
  {
   "cell_type": "code",
   "execution_count": 32,
   "metadata": {},
   "outputs": [
    {
     "name": "stdout",
     "output_type": "stream",
     "text": [
      "[1 3]\n",
      "Original array: [0 1 2 3 4 5 6 7 8 9]\n",
      "First three: [0 1 2]\n",
      "After index 5: [5 6 7 8 9]\n",
      "Every second element: [0 2 4 6 8]\n",
      "\n",
      "\n"
     ]
    }
   ],
   "source": [
    "arr4 = np.arange(10)\n",
    "first_three = arr4[:3]\n",
    "after_five = arr4[5:]\n",
    "every_second = arr4[::2]\n",
    "print(arr4[1:4:2])\n",
    "print(\"Original array:\", arr4)\n",
    "print(\"First three:\", first_three)\n",
    "print(\"After index 5:\", after_five)\n",
    "print(\"Every second element:\",every_second)\n",
    "print(\"\\n\")"
   ]
  },
  {
   "cell_type": "code",
   "execution_count": 33,
   "metadata": {},
   "outputs": [
    {
     "data": {
      "text/plain": [
       "'Task: Create an array of numbers 1-12 and:- Reshape it into a 3x4 matrix- \\nReshape it into a 4x3 matrix- Transpose the 3x4 matrix'"
      ]
     },
     "execution_count": 33,
     "metadata": {},
     "output_type": "execute_result"
    }
   ],
   "source": [
    "'''Task: Create an array of numbers 1-12 and:- Reshape it into a 3x4 matrix- \n",
    "Reshape it into a 4x3 matrix- Transpose the 3x4 matrix'''"
   ]
  },
  {
   "cell_type": "code",
   "execution_count": 37,
   "metadata": {},
   "outputs": [
    {
     "name": "stdout",
     "output_type": "stream",
     "text": [
      "Original array: [ 1  2  3  4  5  6  7  8  9 10 11 12]\n",
      "3x4 matrix:\n",
      " [[ 1  2  3  4]\n",
      " [ 5  6  7  8]\n",
      " [ 9 10 11 12]]\n",
      "4x3 matrix:\n",
      " [[ 1  2  3]\n",
      " [ 4  5  6]\n",
      " [ 7  8  9]\n",
      " [10 11 12]]\n",
      "Transposed 3x4 matrix:\n",
      " [[ 1  5  9]\n",
      " [ 2  6 10]\n",
      " [ 3  7 11]\n",
      " [ 4  8 12]]\n",
      "\n",
      "\n"
     ]
    }
   ],
   "source": [
    "arr5 = np.arange(1, 13)\n",
    "matrix_3x4 = arr5.reshape(3, 4)\n",
    "matrix_4x3 = arr5.reshape(4, 3)\n",
    "transposed = matrix_3x4.T\n",
    "print(\"Original array:\", arr5)\n",
    "print(\"3x4 matrix:\\n\", matrix_3x4)\n",
    "print(\"4x3 matrix:\\n\", matrix_4x3)\n",
    "print(\"Transposed 3x4 matrix:\\n\", transposed)\n",
    "print(\"\\n\")"
   ]
  },
  {
   "cell_type": "code",
   "execution_count": 38,
   "metadata": {},
   "outputs": [],
   "source": [
    "#  Task: Using the 3x4 matrix from Task 4:- Calculate the mean of all elements- Find the maximum value in each row-\n",
    "#  Calculate the sum of each col"
   ]
  },
  {
   "cell_type": "code",
   "execution_count": 39,
   "metadata": {},
   "outputs": [
    {
     "name": "stdout",
     "output_type": "stream",
     "text": [
      "3x4 matrix:\n",
      " [[ 1  2  3  4]\n",
      " [ 5  6  7  8]\n",
      " [ 9 10 11 12]]\n",
      "Mean value: 6.5\n",
      "Maximum values per row: [ 4  8 12]\n",
      "Sum of each column: [15 18 21 24]\n",
      "\n",
      "\n"
     ]
    }
   ],
   "source": [
    "mean_value = np.mean(matrix_3x4)\n",
    "row_max = np.max(matrix_3x4, axis=1)\n",
    "col_sum = np.sum(matrix_3x4, axis=0)\n",
    "print(\"3x4 matrix:\\n\", matrix_3x4)\n",
    "print(\"Mean value:\", mean_value)\n",
    "print(\"Maximum values per row:\", row_max)\n",
    "print(\"Sum of each column:\", col_sum)\n",
    "print(\"\\n\")"
   ]
  },
  {
   "cell_type": "code",
   "execution_count": 40,
   "metadata": {},
   "outputs": [],
   "source": [
    "# k: Create an array of temperatures (in Celsius) and:- Find all temperatures above 25°C- \n",
    "# Replace all temperatures above 30°C with 30"
   ]
  },
  {
   "cell_type": "code",
   "execution_count": 41,
   "metadata": {},
   "outputs": [
    {
     "name": "stdout",
     "output_type": "stream",
     "text": [
      "Original temperatures: [20 25 28 32 35 27 22 31]\n",
      "Temperatures above 25°C: [28 32 35 27 31]\n",
      "Temperatures capped at 30°C: [20 25 28 30 30 27 22 30]\n",
      "\n",
      "\n"
     ]
    }
   ],
   "source": [
    "temperatures = np.array([20, 25, 28, 32, 35, 27, 22, 31])\n",
    "high_temps = temperatures[temperatures > 25]\n",
    "temperatures_capped = np.clip(temperatures, None, 30)\n",
    "print(\"Original temperatures:\", temperatures)\n",
    "print(\"Temperatures above 25°C:\", high_temps)\n",
    "print(\"Temperatures capped at 30°C:\", temperatures_capped)\n",
    "print(\"\\n\")"
   ]
  },
  {
   "cell_type": "code",
   "execution_count": 42,
   "metadata": {},
   "outputs": [],
   "source": [
    "#  Task: Create two 2x2 matrices and:- Add them together- Multiply them together (matrix multiplication)- \n",
    "#  Calculate the determinant of the first matrix"
   ]
  },
  {
   "cell_type": "code",
   "execution_count": 43,
   "metadata": {},
   "outputs": [
    {
     "name": "stdout",
     "output_type": "stream",
     "text": [
      "Matrix 1:\n",
      " [[1 2]\n",
      " [3 4]]\n",
      "Matrix 2:\n",
      " [[5 6]\n",
      " [7 8]]\n",
      "Sum of matrices:\n",
      " [[ 6  8]\n",
      " [10 12]]\n",
      "Matrix product:\n",
      " [[19 22]\n",
      " [43 50]]\n",
      "Determinant of matrix 1: -2.0000000000000004\n",
      "\n",
      "\n"
     ]
    }
   ],
   "source": [
    "matrix1 = np.array([[1, 2], [3, 4]])\n",
    "matrix2 = np.array([[5, 6], [7, 8]])\n",
    "matrix_sum = matrix1 + matrix2\n",
    "matrix_product = np.dot(matrix1, matrix2)\n",
    "determinant = np.linalg.det(matrix1)\n",
    "print(\"Matrix 1:\\n\", matrix1)\n",
    "print(\"Matrix 2:\\n\", matrix2)\n",
    "print(\"Sum of matrices:\\n\", matrix_sum)\n",
    "print(\"Matrix product:\\n\", matrix_product)\n",
    "print(\"Determinant of matrix 1:\", determinant)\n",
    "print(\"\\n\")"
   ]
  },
  {
   "cell_type": "code",
   "execution_count": 44,
   "metadata": {},
   "outputs": [
    {
     "data": {
      "text/plain": [
       "' \"\"\"\\n Task: Create two 1D arrays and:- Concatenate them horizontally- \\n Concatenate them vertically- Split the concatenated array into 3 equal parts'"
      ]
     },
     "execution_count": 44,
     "metadata": {},
     "output_type": "execute_result"
    }
   ],
   "source": [
    "''' \"\"\"\n",
    " Task: Create two 1D arrays and:- Concatenate them horizontally- \n",
    " Concatenate them vertically- Split the concatenated array into 3 equal parts'''\n"
   ]
  },
  {
   "cell_type": "code",
   "execution_count": 45,
   "metadata": {},
   "outputs": [
    {
     "name": "stdout",
     "output_type": "stream",
     "text": [
      "Array 1: [1 2 3]\n",
      "Array 2: [4 5 6]\n",
      "Horizontal concatenation: [1 2 3 4 5 6]\n",
      "Vertical concatenation:\n",
      " [[1 2 3]\n",
      " [4 5 6]]\n",
      "Split into 3 parts: [array([1, 2]), array([3, 4]), array([5, 6])]\n",
      "\n",
      "\n"
     ]
    }
   ],
   "source": [
    "arr6 = np.array([1, 2, 3])\n",
    "arr7 = np.array([4, 5, 6])\n",
    "horizontal_concat = np.hstack((arr6, arr7))\n",
    "vertical_concat = np.vstack((arr6, arr7))\n",
    "split_array = np.array_split(horizontal_concat, 3)\n",
    "print(\"Array 1:\", arr6)\n",
    "print(\"Array 2:\", arr7)\n",
    "print(\"Horizontal concatenation:\", horizontal_concat)\n",
    "print(\"Vertical concatenation:\\n\", vertical_concat)\n",
    "print(\"Split into 3 parts:\", split_array)\n",
    "print(\"\\n\")"
   ]
  },
  {
   "cell_type": "code",
   "execution_count": 46,
   "metadata": {},
   "outputs": [],
   "source": [
    "# Task: Create a 3x3 matrix and:- \n",
    "# Add a scalar to all elements- Multiply each row by a different number"
   ]
  },
  {
   "cell_type": "code",
   "execution_count": 50,
   "metadata": {},
   "outputs": [
    {
     "name": "stdout",
     "output_type": "stream",
     "text": [
      "[[1]\n",
      " [2]\n",
      " [3]]\n",
      "Original matrix:\n",
      " [[1 2 3]\n",
      " [4 5 6]\n",
      " [7 8 9]]\n",
      "After adding 10:\n",
      " [[11 12 13]\n",
      " [14 15 16]\n",
      " [17 18 19]]\n",
      "After multiplying each row by [1,2,3]:\n",
      " [[ 1  2  3]\n",
      " [ 8 10 12]\n",
      " [21 24 27]]\n",
      "\n",
      "\n"
     ]
    }
   ],
   "source": [
    "matrix3 = np.array([[1, 2, 3], [4, 5, 6], [7, 8, 9]])\n",
    "scalar_add = matrix3 + 10\n",
    "row_multipliers = np.array([1, 2, 3]).reshape(-1, 1)\n",
    "print(row_multipliers)\n",
    "row_multiply = matrix3 * row_multipliers\n",
    "print(\"Original matrix:\\n\", matrix3)\n",
    "print(\"After adding 10:\\n\", scalar_add)\n",
    "print(\"After multiplying each row by [1,2,3]:\\n\", row_multiply)\n",
    "print(\"\\n\")"
   ]
  },
  {
   "cell_type": "code",
   "execution_count": 48,
   "metadata": {},
   "outputs": [],
   "source": [
    "# Demonstrate random number generation:- Create an array of 5 random numbers between 0 and 1- \n",
    "# Generate 10 numbers from a normal distribution- \n",
    "# Create a 4x4 matrix of random integers between 1-100"
   ]
  },
  {
   "cell_type": "code",
   "execution_count": 49,
   "metadata": {},
   "outputs": [
    {
     "name": "stdout",
     "output_type": "stream",
     "text": [
      "Random numbers between 0 and 1: [0.37454012 0.95071431 0.73199394 0.59865848 0.15601864]\n",
      "Numbers from normal distribution: [ 0.27904129  1.01051528 -0.58087813 -0.52516981 -0.57138017 -0.92408284\n",
      " -2.61254901  0.95036968  0.81644508 -1.523876  ]\n",
      "4x4 random integer matrix:\n",
      " [[42 92 60 80]\n",
      " [15 62 62 47]\n",
      " [62 51 55 64]\n",
      " [ 3 51  7 21]]\n"
     ]
    }
   ],
   "source": [
    "np.random.seed(42)  # For reproducibility\n",
    "random_uniform = np.random.random(5)\n",
    "random_normal = np.random.normal(size=10)\n",
    "random_matrix = np.random.randint(1, 101, size=(4, 4))\n",
    "print(\"Random numbers between 0 and 1:\", random_uniform)\n",
    "print(\"Numbers from normal distribution:\", random_normal)\n",
    "print(\"4x4 random integer matrix:\\n\", random_matrix)"
   ]
  }
 ],
 "metadata": {
  "kernelspec": {
   "display_name": "base",
   "language": "python",
   "name": "python3"
  },
  "language_info": {
   "codemirror_mode": {
    "name": "ipython",
    "version": 3
   },
   "file_extension": ".py",
   "mimetype": "text/x-python",
   "name": "python",
   "nbconvert_exporter": "python",
   "pygments_lexer": "ipython3",
   "version": "3.12.4"
  }
 },
 "nbformat": 4,
 "nbformat_minor": 2
}
